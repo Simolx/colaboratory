{
  "nbformat": 4,
  "nbformat_minor": 0,
  "metadata": {
    "colab": {
      "name": "stanfordNLP.ipynb",
      "version": "0.3.2",
      "provenance": [],
      "include_colab_link": true
    },
    "kernelspec": {
      "name": "python3",
      "display_name": "Python 3"
    },
    "accelerator": "GPU"
  },
  "cells": [
    {
      "cell_type": "markdown",
      "metadata": {
        "id": "view-in-github",
        "colab_type": "text"
      },
      "source": [
        "<a href=\"https://colab.research.google.com/github/Simolx/colaboratory/blob/master/stanfordnlp/stanfordNLP.ipynb\" target=\"_parent\"><img src=\"https://colab.research.google.com/assets/colab-badge.svg\" alt=\"Open In Colab\"/></a>"
      ]
    },
    {
      "metadata": {
        "id": "FEljiFuIAw6D",
        "colab_type": "text"
      },
      "cell_type": "markdown",
      "source": [
        "# Stanford NLP"
      ]
    },
    {
      "metadata": {
        "id": "Ky8CbUrbS6sh",
        "colab_type": "code",
        "outputId": "558379c5-c095-497a-cfb9-bc70773179bc",
        "colab": {
          "base_uri": "https://localhost:8080/",
          "height": 54
        }
      },
      "cell_type": "code",
      "source": [
        "from google.colab import drive\n",
        "drive.mount('/mnt/stanfordnlp')"
      ],
      "execution_count": 0,
      "outputs": [
        {
          "output_type": "stream",
          "text": [
            "Drive already mounted at /mnt/stanfordnlp; to attempt to forcibly remount, call drive.mount(\"/mnt/stanfordnlp\", force_remount=True).\n"
          ],
          "name": "stdout"
        }
      ]
    },
    {
      "metadata": {
        "id": "yznpbIS9VZzG",
        "colab_type": "code",
        "colab": {}
      },
      "cell_type": "code",
      "source": [
        "! wget -c -P /mnt/stanfordnlp/'My Drive'/stanfordnlp/models http://nlp.stanford.edu/software/conll_2018/zh_gsd_models.zip"
      ],
      "execution_count": 0,
      "outputs": []
    },
    {
      "metadata": {
        "id": "Wn32BkoIduG6",
        "colab_type": "code",
        "outputId": "f1f3dd98-f50c-4778-db76-7a42cb75e4e1",
        "colab": {
          "base_uri": "https://localhost:8080/",
          "height": 156
        }
      },
      "cell_type": "code",
      "source": [
        "! unzip /mnt/stanfordnlp/'My Drive'/stanfordnlp/models/zh_gsd_models.zip -d /mnt/stanfordnlp/'My Drive'/stanfordnlp/models"
      ],
      "execution_count": 0,
      "outputs": [
        {
          "output_type": "stream",
          "text": [
            "Archive:  /mnt/stanfordnlp/My Drive/stanfordnlp/models/zh_gsd_models.zip\n",
            "   creating: /mnt/stanfordnlp/My Drive/stanfordnlp/model/zh_gsd_models/\n",
            "  inflating: /mnt/stanfordnlp/My Drive/stanfordnlp/model/zh_gsd_models/zh_gsd_parser.pt  \n",
            "  inflating: /mnt/stanfordnlp/My Drive/stanfordnlp/model/zh_gsd_models/zh_gsd_lemmatizer.pt  \n",
            "  inflating: /mnt/stanfordnlp/My Drive/stanfordnlp/model/zh_gsd_models/zh_gsd_tagger.pt  \n",
            "  inflating: /mnt/stanfordnlp/My Drive/stanfordnlp/model/zh_gsd_models/zh_gsd.pretrain.pt  \n",
            "  inflating: /mnt/stanfordnlp/My Drive/stanfordnlp/model/zh_gsd_models/zh_gsd_tokenizer.pt  \n"
          ],
          "name": "stdout"
        }
      ]
    },
    {
      "metadata": {
        "id": "CTi4I0DTU6OX",
        "colab_type": "code",
        "outputId": "01bffdcd-8fc6-4380-d8b3-c5d9b46e6e6f",
        "colab": {
          "base_uri": "https://localhost:8080/",
          "height": 68
        }
      },
      "cell_type": "code",
      "source": [
        "! ls -al /mnt/stanfordnlp/'My Drive'/stanfordnlp/models"
      ],
      "execution_count": 0,
      "outputs": [
        {
          "output_type": "stream",
          "text": [
            "total 980459\n",
            "drwx------ 2 root root       4096 Apr 18 12:41 zh_gsd_models\n",
            "-rw------- 1 root root 1003985059 Jan 23 05:55 zh_gsd_models.zip\n"
          ],
          "name": "stdout"
        }
      ]
    },
    {
      "metadata": {
        "id": "B6UQhvomAmJE",
        "colab_type": "code",
        "colab": {}
      },
      "cell_type": "code",
      "source": [
        "! pip install stanfordnlp"
      ],
      "execution_count": 0,
      "outputs": []
    },
    {
      "metadata": {
        "id": "tYlsrApXAn_L",
        "colab_type": "code",
        "colab": {}
      },
      "cell_type": "code",
      "source": [
        "import stanfordnlp"
      ],
      "execution_count": 0,
      "outputs": []
    },
    {
      "metadata": {
        "id": "E_If-5JrVqVS",
        "colab_type": "code",
        "colab": {}
      },
      "cell_type": "code",
      "source": [
        "help(stanfordnlp.Pipeline)"
      ],
      "execution_count": 0,
      "outputs": []
    },
    {
      "metadata": {
        "id": "yp0cX65FBEzm",
        "colab_type": "code",
        "outputId": "0e7e69f6-dc08-4723-f303-418f117e2b87",
        "colab": {
          "base_uri": "https://localhost:8080/",
          "height": 445
        }
      },
      "cell_type": "code",
      "source": [
        "nlp = stanfordnlp.Pipeline(lang='zh', models_dir='/mnt/stanfordnlp/My Drive/stanfordnlp/models')"
      ],
      "execution_count": 0,
      "outputs": [
        {
          "output_type": "stream",
          "text": [
            "Use device: gpu\n",
            "---\n",
            "Loading: tokenize\n",
            "With settings: \n",
            "{'model_path': '/mnt/stanfordnlp/My Drive/stanfordnlp/models/zh_gsd_models/zh_gsd_tokenizer.pt', 'lang': 'zh', 'shorthand': 'zh_gsd', 'mode': 'predict'}\n",
            "---\n",
            "Loading: pos\n",
            "With settings: \n",
            "{'model_path': '/mnt/stanfordnlp/My Drive/stanfordnlp/models/zh_gsd_models/zh_gsd_tagger.pt', 'pretrain_path': '/mnt/stanfordnlp/My Drive/stanfordnlp/models/zh_gsd_models/zh_gsd.pretrain.pt', 'lang': 'zh', 'shorthand': 'zh_gsd', 'mode': 'predict'}\n",
            "---\n",
            "Loading: lemma\n",
            "With settings: \n",
            "{'model_path': '/mnt/stanfordnlp/My Drive/stanfordnlp/models/zh_gsd_models/zh_gsd_lemmatizer.pt', 'lang': 'zh', 'shorthand': 'zh_gsd', 'mode': 'predict'}\n",
            "Building an attentional Seq2Seq model...\n",
            "Using a Bi-LSTM encoder\n",
            "Using soft attention for LSTM.\n",
            "Finetune all embeddings.\n",
            "[Running seq2seq lemmatizer with edit classifier]\n",
            "---\n",
            "Loading: depparse\n",
            "With settings: \n",
            "{'model_path': '/mnt/stanfordnlp/My Drive/stanfordnlp/models/zh_gsd_models/zh_gsd_parser.pt', 'pretrain_path': '/mnt/stanfordnlp/My Drive/stanfordnlp/models/zh_gsd_models/zh_gsd.pretrain.pt', 'lang': 'zh', 'shorthand': 'zh_gsd', 'mode': 'predict'}\n",
            "Done loading processors!\n",
            "---\n"
          ],
          "name": "stdout"
        }
      ]
    },
    {
      "metadata": {
        "id": "HdBV9VoSfJIV",
        "colab_type": "code",
        "outputId": "13721cff-cc1a-4b39-902a-6d5334e11d1d",
        "colab": {
          "base_uri": "https://localhost:8080/",
          "height": 646
        }
      },
      "cell_type": "code",
      "source": [
        "dir(doc.sentences[0])"
      ],
      "execution_count": 0,
      "outputs": [
        {
          "output_type": "execute_result",
          "data": {
            "text/plain": [
              "['__class__',\n",
              " '__delattr__',\n",
              " '__dict__',\n",
              " '__dir__',\n",
              " '__doc__',\n",
              " '__eq__',\n",
              " '__format__',\n",
              " '__ge__',\n",
              " '__getattribute__',\n",
              " '__gt__',\n",
              " '__hash__',\n",
              " '__init__',\n",
              " '__init_subclass__',\n",
              " '__le__',\n",
              " '__lt__',\n",
              " '__module__',\n",
              " '__ne__',\n",
              " '__new__',\n",
              " '__reduce__',\n",
              " '__reduce_ex__',\n",
              " '__repr__',\n",
              " '__setattr__',\n",
              " '__sizeof__',\n",
              " '__str__',\n",
              " '__subclasshook__',\n",
              " '__weakref__',\n",
              " '_dependencies',\n",
              " '_process_tokens',\n",
              " '_tokens',\n",
              " '_words',\n",
              " 'build_dependencies',\n",
              " 'dependencies',\n",
              " 'print_dependencies',\n",
              " 'print_tokens',\n",
              " 'print_words',\n",
              " 'tokens',\n",
              " 'words']"
            ]
          },
          "metadata": {
            "tags": []
          },
          "execution_count": 38
        }
      ]
    },
    {
      "metadata": {
        "id": "uNvi7eEpFsXu",
        "colab_type": "code",
        "outputId": "a558e8aa-94c8-4fc9-ac03-6bd8096f5d9e",
        "colab": {
          "base_uri": "https://localhost:8080/",
          "height": 323
        }
      },
      "cell_type": "code",
      "source": [
        "doc = nlp(\"顾客进入店内时，他们对哪些产品和功能感兴趣？为什么感兴趣？\")\n",
        "for sentence in doc.sentences:\n",
        "#   sentence.print_tokens()\n",
        "#   sentence.print_words()\n",
        "  sentence.print_dependencies()\n",
        "#     print(sentence.tokens)"
      ],
      "execution_count": 0,
      "outputs": [
        {
          "output_type": "stream",
          "text": [
            "('顾客', '3', 'nmod')\n",
            "('进入', '3', 'case:suff')\n",
            "('店', '5', 'nsubj')\n",
            "('内时', '5', 'advmod')\n",
            "('，', '0', 'root')\n",
            "('他', '8', 'nsubj')\n",
            "('们', '8', 'aux')\n",
            "('对', '17', 'acl:relcl')\n",
            "('哪些', '10', 'det')\n",
            "('产品', '8', 'obj')\n",
            "('和', '14', 'cc')\n",
            "('功能', '13', 'case:suff')\n",
            "('感', '14', 'nmod')\n",
            "('兴趣', '10', 'conj')\n",
            "('？', '8', 'mark:relcl')\n",
            "('为什么感', '17', 'amod')\n",
            "('兴趣', '5', 'obj')\n",
            "('？', '5', 'punct')\n"
          ],
          "name": "stdout"
        }
      ]
    },
    {
      "metadata": {
        "id": "bgk_mc9De2Ft",
        "colab_type": "code",
        "colab": {}
      },
      "cell_type": "code",
      "source": [
        ""
      ],
      "execution_count": 0,
      "outputs": []
    }
  ]
}