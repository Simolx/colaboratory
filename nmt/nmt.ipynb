{
  "nbformat": 4,
  "nbformat_minor": 0,
  "metadata": {
    "colab": {
      "name": "nmt.ipynb",
      "version": "0.3.2",
      "provenance": [],
      "toc_visible": true
    },
    "kernelspec": {
      "name": "python3",
      "display_name": "Python 3"
    },
    "accelerator": "GPU"
  },
  "cells": [
    {
      "metadata": {
        "id": "KRpEdlZhqq4x",
        "colab_type": "text"
      },
      "cell_type": "markdown",
      "source": [
        "# NMT"
      ]
    },
    {
      "metadata": {
        "id": "6NxwwooYq5Ul",
        "colab_type": "text"
      },
      "cell_type": "markdown",
      "source": [
        "## 挂载Google Drive，准备数据"
      ]
    },
    {
      "metadata": {
        "id": "B6pBJXYhpdPA",
        "colab_type": "code",
        "colab": {
          "base_uri": "https://localhost:8080/",
          "height": 127
        },
        "outputId": "81f6ba06-277f-40d5-ef1e-df88ad763c8f"
      },
      "cell_type": "code",
      "source": [
        "from google.colab import drive\n",
        "drive.mount('/mt')"
      ],
      "execution_count": 2,
      "outputs": [
        {
          "output_type": "stream",
          "text": [
            "Go to this URL in a browser: https://accounts.google.com/o/oauth2/auth?client_id=947318989803-6bn6qk8qdgf4n4g3pfee6491hc0brc4i.apps.googleusercontent.com&redirect_uri=urn%3Aietf%3Awg%3Aoauth%3A2.0%3Aoob&scope=email%20https%3A%2F%2Fwww.googleapis.com%2Fauth%2Fdocs.test%20https%3A%2F%2Fwww.googleapis.com%2Fauth%2Fdrive%20https%3A%2F%2Fwww.googleapis.com%2Fauth%2Fdrive.photos.readonly%20https%3A%2F%2Fwww.googleapis.com%2Fauth%2Fpeopleapi.readonly&response_type=code\n",
            "\n",
            "Enter your authorization code:\n",
            "··········\n",
            "Mounted at /mt\n"
          ],
          "name": "stdout"
        }
      ]
    },
    {
      "metadata": {
        "id": "qge9OXXgqpW5",
        "colab_type": "code",
        "colab": {
          "base_uri": "https://localhost:8080/",
          "height": 35
        },
        "outputId": "b3a93a9a-8922-41be-a5f1-9f4c2e1c946b"
      },
      "cell_type": "code",
      "source": [
        "! ls /mt/My\\ Drive/mt/icytranslate_offline/data"
      ],
      "execution_count": 9,
      "outputs": [
        {
          "output_type": "stream",
          "text": [
            "c.clean.ja  c.clean.zh\n"
          ],
          "name": "stdout"
        }
      ]
    },
    {
      "metadata": {
        "id": "pTyYcqJ-ro2n",
        "colab_type": "code",
        "colab": {}
      },
      "cell_type": "code",
      "source": [
        "! mkdir data"
      ],
      "execution_count": 0,
      "outputs": []
    },
    {
      "metadata": {
        "id": "_sjLPW0Lr57g",
        "colab_type": "code",
        "colab": {}
      },
      "cell_type": "code",
      "source": [
        "! cp /mt/My\\ Drive/mt/icytranslate_offline/data/* ./data/"
      ],
      "execution_count": 0,
      "outputs": []
    },
    {
      "metadata": {
        "id": "B8IjgiG_r9u0",
        "colab_type": "code",
        "colab": {
          "base_uri": "https://localhost:8080/",
          "height": 35
        },
        "outputId": "59666c19-fc13-4fc5-e589-7ee7da297c56"
      },
      "cell_type": "code",
      "source": [
        "! ls data"
      ],
      "execution_count": 14,
      "outputs": [
        {
          "output_type": "stream",
          "text": [
            "c.clean.ja  c.clean.zh\n"
          ],
          "name": "stdout"
        }
      ]
    },
    {
      "metadata": {
        "id": "SR12hA8Fr-zs",
        "colab_type": "code",
        "colab": {
          "base_uri": "https://localhost:8080/",
          "height": 431
        },
        "outputId": "91d255f6-6c5e-4063-b0ee-768e6b178cae"
      },
      "cell_type": "code",
      "source": [
        "! head data/c.clean.zh data/c.clean.ja"
      ],
      "execution_count": 17,
      "outputs": [
        {
          "output_type": "stream",
          "text": [
            "==> data/c.clean.zh <==\n",
            "《 卡里 加利 博士 的 小屋 》 由 卡尔 · 梅育 以及 汉斯 · 杰 诺维 兹 编写 的 6 场戏 构成\n",
            "第一场\n",
            "到处 都 是 幽灵 ， 它们 就 在 我们 周围 它们 驱使 我 远离 健康 和 家庭 远离 妻子 和 孩子\n",
            "那 是 我 未婚妻\n",
            "我 与 她 的 经历 比 你 的 经历 离奇 多 了\n",
            "我 给 你 讲讲 这 段 经历 ...\n",
            "我 出生 的 那个 小镇 ...\n",
            "年度 游园 集会\n",
            "他 ...\n",
            "我 的 朋友 ， 阿兰 ...\n",
            "\n",
            "==> data/c.clean.ja <==\n",
            "カリガリ 博士 の 小屋\n",
            "幕 １\n",
            "私 は 亡霊 の おかげ で 家族 や 家庭 を 捨て ざる を え な かっ た\n",
            "僕 の 婚約 者 だ\n",
            "僕 と 彼女 の 体験 は あなた の 物語 より も 恐ろし い\n",
            "今 から それ を 話 し て あげ よう\n",
            "故郷 ハレシュテンバル で の 出来事 だ\n",
            "お 祭り が ひら か れ た\n",
            "ある 香具師 が や っ て き た\n",
            "親友 の アラン だ\n"
          ],
          "name": "stdout"
        }
      ]
    },
    {
      "metadata": {
        "id": "RMDyQ8C-t-H-",
        "colab_type": "text"
      },
      "cell_type": "markdown",
      "source": [
        ""
      ]
    },
    {
      "metadata": {
        "id": "ekMuDd_zuN2c",
        "colab_type": "text"
      },
      "cell_type": "markdown",
      "source": [
        "## 清洗数据\n",
        "\n"
      ]
    },
    {
      "metadata": {
        "id": "FyUKBcwQtd1Z",
        "colab_type": "code",
        "colab": {}
      },
      "cell_type": "code",
      "source": [
        "import re\n",
        "def clean_data(input_prefix, output_prefix, src_lang, dest_lang):\n",
        "  src_input_path = input_prefix + '.' + src_lang\n",
        "  dest_input_path = input_prefix + '.' + dest_lang\n",
        "  src_output_path = output_prefix + '.' + src_lang\n",
        "  dest_output_path = output_prefix + '.' + dest_lang\n",
        "  long_world_pattern = re.compile(r'[a-zA-z]{5,}')\n",
        "  with open(src_input_path) as src_rf, open(dest_input_path) as dest_rf:\n",
        "    with open(src_output_path, 'w') as src_wf, open(dest_output_path, 'w') as dest_wf:\n",
        "      for src_line, dest_line in zip(src_rf, dest_rf):\n",
        "        # 去除长度小6的句子和包含5为以上字符的单词\n",
        "        if len(src_line.replace(' ', '')) < 7 or len(dest_line.replace(' ', '')) < 6 \\\n",
        "        or re.search(long_world_pattern, src_line) or re.search(long_world_pattern, dest_line):\n",
        "          continue\n",
        "        else:\n",
        "          src_wf.write(src_line)\n",
        "          dest_wf.write(dest_line)\n"
      ],
      "execution_count": 0,
      "outputs": []
    },
    {
      "metadata": {
        "id": "qT6PKVWhxGX2",
        "colab_type": "code",
        "colab": {}
      },
      "cell_type": "code",
      "source": [
        "input_prefix = 'data/c.clean'\n",
        "output_prefix = 'data/corpus'\n",
        "src_lang = 'ja'\n",
        "dest_lang = 'zh'\n",
        "clean_data(input_prefix, output_prefix, src_lang, dest_lang)"
      ],
      "execution_count": 0,
      "outputs": []
    },
    {
      "metadata": {
        "id": "5AcvzXG1yIxU",
        "colab_type": "code",
        "colab": {
          "base_uri": "https://localhost:8080/",
          "height": 107
        },
        "outputId": "186a3949-c01f-4d3a-83d4-e33b14ddb224"
      },
      "cell_type": "code",
      "source": [
        "! wc -l data/*"
      ],
      "execution_count": 35,
      "outputs": [
        {
          "output_type": "stream",
          "text": [
            "  1088446 data/c.clean.ja\n",
            "  1088446 data/c.clean.zh\n",
            "   746176 data/corpus.ja\n",
            "   746176 data/corpus.zh\n",
            "  3669244 total\n"
          ],
          "name": "stdout"
        }
      ]
    },
    {
      "metadata": {
        "id": "J1FPRjW9xpXa",
        "colab_type": "code",
        "colab": {
          "base_uri": "https://localhost:8080/",
          "height": 431
        },
        "outputId": "e1a7cf6d-6847-4c55-a841-609cf611ab2a"
      },
      "cell_type": "code",
      "source": [
        "! head data/corpus*"
      ],
      "execution_count": 36,
      "outputs": [
        {
          "output_type": "stream",
          "text": [
            "==> data/corpus.ja <==\n",
            "カリガリ 博士 の 小屋\n",
            "私 は 亡霊 の おかげ で 家族 や 家庭 を 捨て ざる を え な かっ た\n",
            "僕 の 婚約 者 だ\n",
            "僕 と 彼女 の 体験 は あなた の 物語 より も 恐ろし い\n",
            "今 から それ を 話 し て あげ よう\n",
            "故郷 ハレシュテンバル で の 出来事 だ\n",
            "お 祭り が ひら か れ た\n",
            "親友 の アラン だ\n",
            "\" ハレシュテンバル 祭 へ 皆 様 ぜひ お 越し を ！ \"\n",
            "フランシス お 祭り へ い こ う ぜ\n",
            "\n",
            "==> data/corpus.zh <==\n",
            "《 卡里 加利 博士 的 小屋 》 由 卡尔 · 梅育 以及 汉斯 · 杰 诺维 兹 编写 的 6 场戏 构成\n",
            "到处 都 是 幽灵 ， 它们 就 在 我们 周围 它们 驱使 我 远离 健康 和 家庭 远离 妻子 和 孩子\n",
            "那 是 我 未婚妻\n",
            "我 与 她 的 经历 比 你 的 经历 离奇 多 了\n",
            "我 给 你 讲讲 这 段 经历 ...\n",
            "我 出生 的 那个 小镇 ...\n",
            "年度 游园 集会\n",
            "我 的 朋友 ， 阿兰 ...\n",
            "【 特号 】 霍斯腾 沃尔 游园 集会 各种 从未 出现 过 的 展示\n",
            "走 吧 , 弗朗西斯 ， 去 集会 玩玩 吧 ！\n"
          ],
          "name": "stdout"
        }
      ]
    },
    {
      "metadata": {
        "id": "nslmW4JEzNiY",
        "colab_type": "text"
      },
      "cell_type": "markdown",
      "source": [
        "## 建立词表"
      ]
    },
    {
      "metadata": {
        "id": "wTtZLaJizK4w",
        "colab_type": "code",
        "colab": {}
      },
      "cell_type": "code",
      "source": [
        "import collections\n",
        "def create_vocab(data_prefix, vocab_prefix, lang, threshold=0):\n",
        "  vocab = ['<unk>\\n', '<s>\\n', '<\\s>\\n']\n",
        "  data_path = data_prefix + '.' + lang\n",
        "  vocab_path = vocab_prefix + '.' + lang\n",
        "  char_pattern = re.compile(r'[b-zB-Z]')\n",
        "  with open(data_path) as rf, open(vocab_path, 'w') as wf:\n",
        "    for line in rf:"
      ],
      "execution_count": 0,
      "outputs": []
    },
    {
      "metadata": {
        "id": "zzZrmkFex0D8",
        "colab_type": "code",
        "colab": {}
      },
      "cell_type": "code",
      "source": [
        ""
      ],
      "execution_count": 0,
      "outputs": []
    }
  ]
}