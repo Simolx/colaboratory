{
  "nbformat": 4,
  "nbformat_minor": 0,
  "metadata": {
    "colab": {
      "name": "bert.ipynb",
      "version": "0.3.2",
      "provenance": [],
      "private_outputs": true,
      "include_colab_link": true
    },
    "kernelspec": {
      "name": "python3",
      "display_name": "Python 3"
    },
    "accelerator": "GPU"
  },
  "cells": [
    {
      "cell_type": "markdown",
      "metadata": {
        "id": "view-in-github",
        "colab_type": "text"
      },
      "source": [
        "<a href=\"https://colab.research.google.com/github/Simolx/colaboratory/blob/master/bert/bert.ipynb\" target=\"_parent\"><img src=\"https://colab.research.google.com/assets/colab-badge.svg\" alt=\"Open In Colab\"/></a>"
      ]
    },
    {
      "metadata": {
        "id": "FNL9kizvl_zB",
        "colab_type": "code",
        "colab": {}
      },
      "cell_type": "code",
      "source": [
        "from google.colab import drive"
      ],
      "execution_count": 0,
      "outputs": []
    },
    {
      "metadata": {
        "id": "rMLTneKbmguO",
        "colab_type": "code",
        "colab": {}
      },
      "cell_type": "code",
      "source": [
        "! pwd && ls"
      ],
      "execution_count": 0,
      "outputs": []
    },
    {
      "metadata": {
        "id": "nW1aWEL_mmL_",
        "colab_type": "code",
        "colab": {}
      },
      "cell_type": "code",
      "source": [
        "drive.mount('/content/gdrive')"
      ],
      "execution_count": 0,
      "outputs": []
    },
    {
      "metadata": {
        "id": "aJpUWPBZmpMa",
        "colab_type": "code",
        "colab": {}
      },
      "cell_type": "code",
      "source": [
        "! if [ -d /content/gdrive/'My Drive'/bert/models ];then  echo 'models directory exists.'; else mkdir -p /content/gdrive/'My Drive'/bert/models; fi\n",
        "\n",
        "! models=(\\\n",
        "          https://storage.googleapis.com/bert_models/2018_10_18/uncased_L-12_H-768_A-12.zip \\\n",
        "          https://storage.googleapis.com/bert_models/2018_10_18/uncased_L-24_H-1024_A-16.zip \\\n",
        "          https://storage.googleapis.com/bert_models/2018_10_18/cased_L-12_H-768_A-12.zip \\\n",
        "          https://storage.googleapis.com/bert_models/2018_10_18/cased_L-24_H-1024_A-16.zip \\\n",
        "          https://storage.googleapis.com/bert_models/2018_11_23/multi_cased_L-12_H-768_A-12.zip \\\n",
        "          https://storage.googleapis.com/bert_models/2018_11_03/chinese_L-12_H-768_A-12.zip \\\n",
        "         ) && \\\n",
        "  for i in \"${models[@]}\"; do echo $i; done\n",
        "\n",
        "! ls \n",
        "\n",
        "! wget -c -P /content/gdrive/'My Drive'/bert/models --no-check-certificate https://storage.googleapis.com/bert_models/2018_11_03/chinese_L-12_H-768_A-12.zip\n",
        "! wget -c -P /content/gdrive/'My Drive'/bert/models --no-check-certificate https://storage.googleapis.com/bert_models/2018_10_18/uncased_L-12_H-768_A-12.zip\n",
        "! wget -c -P /content/gdrive/'My Drive'/bert/models --no-check-certificate https://storage.googleapis.com/bert_models/2018_10_18/uncased_L-24_H-1024_A-16.zip\n",
        "! wget -c -P /content/gdrive/'My Drive'/bert/models --no-check-certificate https://storage.googleapis.com/bert_models/2018_10_18/cased_L-12_H-768_A-12.zip\n",
        "! wget -c -P /content/gdrive/'My Drive'/bert/models --no-check-certificate https://storage.googleapis.com/bert_models/2018_10_18/cased_L-24_H-1024_A-16.zip\n",
        "! wget -c -P /content/gdrive/'My Drive'/bert/models --no-check-certificate https://storage.googleapis.com/bert_models/2018_11_23/multi_cased_L-12_H-768_A-12.zip\n",
        "  \n",
        "! ls /content/gdrive/'My Drive'/bert/models"
      ],
      "execution_count": 0,
      "outputs": []
    },
    {
      "metadata": {
        "id": "IqTDIQKW2jXB",
        "colab_type": "code",
        "colab": {}
      },
      "cell_type": "code",
      "source": [
        "! nvidia-smi"
      ],
      "execution_count": 0,
      "outputs": []
    },
    {
      "metadata": {
        "id": "b6tfwU7gnjBM",
        "colab_type": "code",
        "colab": {}
      },
      "cell_type": "code",
      "source": [
        ""
      ],
      "execution_count": 0,
      "outputs": []
    },
    {
      "metadata": {
        "id": "VvJsZlqEwgO0",
        "colab_type": "code",
        "colab": {}
      },
      "cell_type": "code",
      "source": [
        ""
      ],
      "execution_count": 0,
      "outputs": []
    }
  ]
}